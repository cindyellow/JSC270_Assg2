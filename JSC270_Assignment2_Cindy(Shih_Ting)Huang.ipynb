{
  "nbformat": 4,
  "nbformat_minor": 0,
  "metadata": {
    "colab": {
      "name": "JSC270_Assignment2_Cindy(Shih-Ting)Huang",
      "provenance": [],
      "collapsed_sections": []
    },
    "kernelspec": {
      "name": "python3",
      "display_name": "Python 3"
    }
  },
  "cells": [
    {
      "cell_type": "markdown",
      "metadata": {
        "id": "Dx3JcBg8VZ-a"
      },
      "source": [
        "###Libraries you'll likely need"
      ]
    },
    {
      "cell_type": "code",
      "metadata": {
        "id": "3I79uCwE3Sq8"
      },
      "source": [
        "import pandas as pd\r\n",
        "import numpy as np\r\n",
        "import matplotlib.pyplot as plt\r\n",
        "import seaborn as sns\r\n",
        "from scipy import stats\r\n",
        "import statsmodels.api as sm\r\n",
        "import statsmodels.formula.api as smf"
      ],
      "execution_count": 68,
      "outputs": []
    },
    {
      "cell_type": "markdown",
      "metadata": {
        "id": "X0oR7u9m-wO6"
      },
      "source": [
        "###Importing data"
      ]
    },
    {
      "cell_type": "code",
      "metadata": {
        "id": "f3jscp2H3Yqm",
        "colab": {
          "base_uri": "https://localhost:8080/"
        },
        "outputId": "ed1c054e-c473-4714-b91e-d2d99f229e57"
      },
      "source": [
        "income94 = pd.read_csv('https://archive.ics.uci.edu/ml/machine-learning-databases/adult/adult.data', header=None, sep = ', ')\r\n",
        "income94.columns = ['age','workclass', 'fnlwgt','education','education_num','marital_status','occupation',\r\n",
        "                    'relationship','race','sex','capital_gain','capital_loss','hours_per_week','native_country','gross_income_group']\r\n"
      ],
      "execution_count": 69,
      "outputs": [
        {
          "output_type": "stream",
          "text": [
            "/usr/local/lib/python3.6/dist-packages/ipykernel_launcher.py:1: ParserWarning: Falling back to the 'python' engine because the 'c' engine does not support regex separators (separators > 1 char and different from '\\s+' are interpreted as regex); you can avoid this warning by specifying engine='python'.\n",
            "  \"\"\"Entry point for launching an IPython kernel.\n"
          ],
          "name": "stderr"
        }
      ]
    },
    {
      "cell_type": "markdown",
      "metadata": {
        "id": "9H0mTFFUnHxw"
      },
      "source": [
        "## Initial Data Exploration\r\n",
        "###1."
      ]
    },
    {
      "cell_type": "code",
      "metadata": {
        "colab": {
          "base_uri": "https://localhost:8080/"
        },
        "id": "9cchvvXCnKHi",
        "outputId": "93348ea8-2e2f-45b1-95f3-831fe30b2373"
      },
      "source": [
        "# Dataframe variable summary\r\n",
        "income94.info()"
      ],
      "execution_count": 70,
      "outputs": [
        {
          "output_type": "stream",
          "text": [
            "<class 'pandas.core.frame.DataFrame'>\n",
            "RangeIndex: 32561 entries, 0 to 32560\n",
            "Data columns (total 15 columns):\n",
            " #   Column              Non-Null Count  Dtype \n",
            "---  ------              --------------  ----- \n",
            " 0   age                 32561 non-null  int64 \n",
            " 1   workclass           32561 non-null  object\n",
            " 2   fnlwgt              32561 non-null  int64 \n",
            " 3   education           32561 non-null  object\n",
            " 4   education_num       32561 non-null  int64 \n",
            " 5   marital_status      32561 non-null  object\n",
            " 6   occupation          32561 non-null  object\n",
            " 7   relationship        32561 non-null  object\n",
            " 8   race                32561 non-null  object\n",
            " 9   sex                 32561 non-null  object\n",
            " 10  capital_gain        32561 non-null  int64 \n",
            " 11  capital_loss        32561 non-null  int64 \n",
            " 12  hours_per_week      32561 non-null  int64 \n",
            " 13  native_country      32561 non-null  object\n",
            " 14  gross_income_group  32561 non-null  object\n",
            "dtypes: int64(6), object(9)\n",
            "memory usage: 3.7+ MB\n"
          ],
          "name": "stdout"
        }
      ]
    },
    {
      "cell_type": "code",
      "metadata": {
        "colab": {
          "base_uri": "https://localhost:8080/",
          "height": 299
        },
        "id": "PXNJHXHlFdt4",
        "outputId": "b6ea8b5f-dfab-4ffc-dbf1-140d4c202670"
      },
      "source": [
        "income94.head(5)"
      ],
      "execution_count": 71,
      "outputs": [
        {
          "output_type": "execute_result",
          "data": {
            "text/html": [
              "<div>\n",
              "<style scoped>\n",
              "    .dataframe tbody tr th:only-of-type {\n",
              "        vertical-align: middle;\n",
              "    }\n",
              "\n",
              "    .dataframe tbody tr th {\n",
              "        vertical-align: top;\n",
              "    }\n",
              "\n",
              "    .dataframe thead th {\n",
              "        text-align: right;\n",
              "    }\n",
              "</style>\n",
              "<table border=\"1\" class=\"dataframe\">\n",
              "  <thead>\n",
              "    <tr style=\"text-align: right;\">\n",
              "      <th></th>\n",
              "      <th>age</th>\n",
              "      <th>workclass</th>\n",
              "      <th>fnlwgt</th>\n",
              "      <th>education</th>\n",
              "      <th>education_num</th>\n",
              "      <th>marital_status</th>\n",
              "      <th>occupation</th>\n",
              "      <th>relationship</th>\n",
              "      <th>race</th>\n",
              "      <th>sex</th>\n",
              "      <th>capital_gain</th>\n",
              "      <th>capital_loss</th>\n",
              "      <th>hours_per_week</th>\n",
              "      <th>native_country</th>\n",
              "      <th>gross_income_group</th>\n",
              "    </tr>\n",
              "  </thead>\n",
              "  <tbody>\n",
              "    <tr>\n",
              "      <th>0</th>\n",
              "      <td>39</td>\n",
              "      <td>State-gov</td>\n",
              "      <td>77516</td>\n",
              "      <td>Bachelors</td>\n",
              "      <td>13</td>\n",
              "      <td>Never-married</td>\n",
              "      <td>Adm-clerical</td>\n",
              "      <td>Not-in-family</td>\n",
              "      <td>White</td>\n",
              "      <td>Male</td>\n",
              "      <td>2174</td>\n",
              "      <td>0</td>\n",
              "      <td>40</td>\n",
              "      <td>United-States</td>\n",
              "      <td>&lt;=50K</td>\n",
              "    </tr>\n",
              "    <tr>\n",
              "      <th>1</th>\n",
              "      <td>50</td>\n",
              "      <td>Self-emp-not-inc</td>\n",
              "      <td>83311</td>\n",
              "      <td>Bachelors</td>\n",
              "      <td>13</td>\n",
              "      <td>Married-civ-spouse</td>\n",
              "      <td>Exec-managerial</td>\n",
              "      <td>Husband</td>\n",
              "      <td>White</td>\n",
              "      <td>Male</td>\n",
              "      <td>0</td>\n",
              "      <td>0</td>\n",
              "      <td>13</td>\n",
              "      <td>United-States</td>\n",
              "      <td>&lt;=50K</td>\n",
              "    </tr>\n",
              "    <tr>\n",
              "      <th>2</th>\n",
              "      <td>38</td>\n",
              "      <td>Private</td>\n",
              "      <td>215646</td>\n",
              "      <td>HS-grad</td>\n",
              "      <td>9</td>\n",
              "      <td>Divorced</td>\n",
              "      <td>Handlers-cleaners</td>\n",
              "      <td>Not-in-family</td>\n",
              "      <td>White</td>\n",
              "      <td>Male</td>\n",
              "      <td>0</td>\n",
              "      <td>0</td>\n",
              "      <td>40</td>\n",
              "      <td>United-States</td>\n",
              "      <td>&lt;=50K</td>\n",
              "    </tr>\n",
              "    <tr>\n",
              "      <th>3</th>\n",
              "      <td>53</td>\n",
              "      <td>Private</td>\n",
              "      <td>234721</td>\n",
              "      <td>11th</td>\n",
              "      <td>7</td>\n",
              "      <td>Married-civ-spouse</td>\n",
              "      <td>Handlers-cleaners</td>\n",
              "      <td>Husband</td>\n",
              "      <td>Black</td>\n",
              "      <td>Male</td>\n",
              "      <td>0</td>\n",
              "      <td>0</td>\n",
              "      <td>40</td>\n",
              "      <td>United-States</td>\n",
              "      <td>&lt;=50K</td>\n",
              "    </tr>\n",
              "    <tr>\n",
              "      <th>4</th>\n",
              "      <td>28</td>\n",
              "      <td>Private</td>\n",
              "      <td>338409</td>\n",
              "      <td>Bachelors</td>\n",
              "      <td>13</td>\n",
              "      <td>Married-civ-spouse</td>\n",
              "      <td>Prof-specialty</td>\n",
              "      <td>Wife</td>\n",
              "      <td>Black</td>\n",
              "      <td>Female</td>\n",
              "      <td>0</td>\n",
              "      <td>0</td>\n",
              "      <td>40</td>\n",
              "      <td>Cuba</td>\n",
              "      <td>&lt;=50K</td>\n",
              "    </tr>\n",
              "  </tbody>\n",
              "</table>\n",
              "</div>"
            ],
            "text/plain": [
              "   age         workclass  ...  native_country gross_income_group\n",
              "0   39         State-gov  ...   United-States              <=50K\n",
              "1   50  Self-emp-not-inc  ...   United-States              <=50K\n",
              "2   38           Private  ...   United-States              <=50K\n",
              "3   53           Private  ...   United-States              <=50K\n",
              "4   28           Private  ...            Cuba              <=50K\n",
              "\n",
              "[5 rows x 15 columns]"
            ]
          },
          "metadata": {
            "tags": []
          },
          "execution_count": 71
        }
      ]
    },
    {
      "cell_type": "markdown",
      "metadata": {
        "id": "4hMocEFrnPDV"
      },
      "source": [
        "###2."
      ]
    },
    {
      "cell_type": "code",
      "metadata": {
        "colab": {
          "base_uri": "https://localhost:8080/"
        },
        "id": "SmTuY8rtKa9G",
        "outputId": "577896d4-e5b4-402a-fbf1-e30bc0b5995a"
      },
      "source": [
        "# See count of missing values for variable workclass\r\n",
        "income94.workclass.value_counts()"
      ],
      "execution_count": 72,
      "outputs": [
        {
          "output_type": "execute_result",
          "data": {
            "text/plain": [
              "Private             22696\n",
              "Self-emp-not-inc     2541\n",
              "Local-gov            2093\n",
              "?                    1836\n",
              "State-gov            1298\n",
              "Self-emp-inc         1116\n",
              "Federal-gov           960\n",
              "Without-pay            14\n",
              "Never-worked            7\n",
              "Name: workclass, dtype: int64"
            ]
          },
          "metadata": {
            "tags": []
          },
          "execution_count": 72
        }
      ]
    },
    {
      "cell_type": "code",
      "metadata": {
        "id": "1FiK6_Kw_vwG"
      },
      "source": [
        "# Replace all missing values marked by \"?\" with NaN\r\n",
        "income94 = income94.replace('?', np.nan)"
      ],
      "execution_count": 73,
      "outputs": []
    },
    {
      "cell_type": "code",
      "metadata": {
        "colab": {
          "base_uri": "https://localhost:8080/"
        },
        "id": "y0sIWjMZ_4Of",
        "outputId": "c7fbb36c-adcf-4958-90be-91cac4c8959c"
      },
      "source": [
        "# Check observation count for each variable to determine how many were NaN\r\n",
        "income94.info()"
      ],
      "execution_count": 74,
      "outputs": [
        {
          "output_type": "stream",
          "text": [
            "<class 'pandas.core.frame.DataFrame'>\n",
            "RangeIndex: 32561 entries, 0 to 32560\n",
            "Data columns (total 15 columns):\n",
            " #   Column              Non-Null Count  Dtype \n",
            "---  ------              --------------  ----- \n",
            " 0   age                 32561 non-null  int64 \n",
            " 1   workclass           30725 non-null  object\n",
            " 2   fnlwgt              32561 non-null  int64 \n",
            " 3   education           32561 non-null  object\n",
            " 4   education_num       32561 non-null  int64 \n",
            " 5   marital_status      32561 non-null  object\n",
            " 6   occupation          30718 non-null  object\n",
            " 7   relationship        32561 non-null  object\n",
            " 8   race                32561 non-null  object\n",
            " 9   sex                 32561 non-null  object\n",
            " 10  capital_gain        32561 non-null  int64 \n",
            " 11  capital_loss        32561 non-null  int64 \n",
            " 12  hours_per_week      32561 non-null  int64 \n",
            " 13  native_country      31978 non-null  object\n",
            " 14  gross_income_group  32561 non-null  object\n",
            "dtypes: int64(6), object(9)\n",
            "memory usage: 3.7+ MB\n"
          ],
          "name": "stdout"
        }
      ]
    },
    {
      "cell_type": "markdown",
      "metadata": {
        "id": "deUUmBcXngRT"
      },
      "source": [
        "###3."
      ]
    },
    {
      "cell_type": "code",
      "metadata": {
        "colab": {
          "base_uri": "https://localhost:8080/",
          "height": 308
        },
        "id": "GDRo3OV81oKG",
        "outputId": "970b5341-abb2-446c-a2c2-2769227b02d5"
      },
      "source": [
        "fig, (plt1, plt2) = plt.subplots(1, 2)\r\n",
        "fig.suptitle('Comparing Capital Gain vs Loss')\r\n",
        "plt. subplots_adjust(wspace=0.5)\r\n",
        "plt1.hist(income94.capital_gain) # Plot histogram for capital gain\r\n",
        "plt2.hist(income94.capital_loss)\r\n",
        " # Plot histogram for capital loss\r\n",
        "fig.show()\r\n",
        "fig.get_axes()[0].set(xlabel='Capital Gain', ylabel='Count')\r\n",
        "fig.get_axes()[1].set(xlabel='Capital Loss')\r\n",
        "for ax in fig.get_axes():\r\n",
        "    ax.label_outer()"
      ],
      "execution_count": 75,
      "outputs": [
        {
          "output_type": "display_data",
          "data": {
            "image/png": "[encoded data removed]",
            "text/plain": [
              "<Figure size 432x288 with 2 Axes>"
            ]
          },
          "metadata": {
            "tags": [],
            "needs_background": "light"
          }
        }
      ]
    },
    {
      "cell_type": "code",
      "metadata": {
        "colab": {
          "base_uri": "https://localhost:8080/"
        },
        "id": "CbBjQvch5MG8",
        "outputId": "39767bd2-602c-4d26-d930-81de12fb1cdf"
      },
      "source": [
        "# Transforming capital gain to a binary variable with values 0 for (gain = 0) and 1 for (gain > 0)\r\n",
        "income94['cg_bin'] = (income94.capital_gain > 0).astype(int)\r\n",
        "income94.cg_bin.value_counts()"
      ],
      "execution_count": 76,
      "outputs": [
        {
          "output_type": "execute_result",
          "data": {
            "text/plain": [
              "0    29849\n",
              "1     2712\n",
              "Name: cg_bin, dtype: int64"
            ]
          },
          "metadata": {
            "tags": []
          },
          "execution_count": 76
        }
      ]
    },
    {
      "cell_type": "code",
      "metadata": {
        "colab": {
          "base_uri": "https://localhost:8080/"
        },
        "id": "BeROQs-E3gsF",
        "outputId": "68e2b5b5-4828-4d7e-866d-45c611f695af"
      },
      "source": [
        "# Transforming capital loss to a binary variable with values 0 for (loss = 0) and 1 for (loss > 0)\r\n",
        "income94['cl_bin'] = (income94.capital_loss > 0).astype(int)\r\n",
        "income94.cl_bin.value_counts()"
      ],
      "execution_count": 77,
      "outputs": [
        {
          "output_type": "execute_result",
          "data": {
            "text/plain": [
              "0    31042\n",
              "1     1519\n",
              "Name: cl_bin, dtype: int64"
            ]
          },
          "metadata": {
            "tags": []
          },
          "execution_count": 77
        }
      ]
    },
    {
      "cell_type": "markdown",
      "metadata": {
        "id": "EVBUOiUuov6F"
      },
      "source": [
        "##4."
      ]
    },
    {
      "cell_type": "code",
      "metadata": {
        "colab": {
          "base_uri": "https://localhost:8080/",
          "height": 300
        },
        "id": "TifiT3de8jUn",
        "outputId": "4d767c48-3407-4fec-9967-1ef6b727cae9"
      },
      "source": [
        "# Plot histogram to observe fnlwgt distribution\r\n",
        "plt.hist(income94.fnlwgt)\r\n",
        "plt.xlabel('Final Weight')\r\n",
        "plt.ylabel('Count')"
      ],
      "execution_count": 78,
      "outputs": [
        {
          "output_type": "execute_result",
          "data": {
            "text/plain": [
              "Text(0, 0.5, 'Count')"
            ]
          },
          "metadata": {
            "tags": []
          },
          "execution_count": 78
        },
        {
          "output_type": "display_data",
          "data": {
            "image/png": "[encoded data removed]",
            "text/plain": [
              "<Figure size 432x288 with 1 Axes>"
            ]
          },
          "metadata": {
            "tags": [],
            "needs_background": "light"
          }
        }
      ]
    },
    {
      "cell_type": "code",
      "metadata": {
        "colab": {
          "base_uri": "https://localhost:8080/",
          "height": 558
        },
        "id": "FZ92aGOX9z94",
        "outputId": "531a0bd4-5568-4a40-de3a-f5c6edae9d6e"
      },
      "source": [
        "# Examine distribution of fnlwgt for female subjects\r\n",
        "wgt_f = income94[income94.sex == 'Female']\r\n",
        "plt.hist(income94.fnlwgt[income94.sex == 'Female'])\r\n",
        "plt.xlabel('Final Weight (Female)')\r\n",
        "plt.ylabel('Count')\r\n",
        "plt.show()\r\n",
        "sns.boxplot(x = 'fnlwgt', data = wgt_f)"
      ],
      "execution_count": 79,
      "outputs": [
        {
          "output_type": "display_data",
          "data": {
            "image/png": "[encoded data removed]",
            "text/plain": [
              "<Figure size 432x288 with 1 Axes>"
            ]
          },
          "metadata": {
            "tags": [],
            "needs_background": "light"
          }
        },
        {
          "output_type": "execute_result",
          "data": {
            "text/plain": [
              "<matplotlib.axes._subplots.AxesSubplot at 0x7f028f4fd1d0>"
            ]
          },
          "metadata": {
            "tags": []
          },
          "execution_count": 79
        },
        {
          "output_type": "display_data",
          "data": {
            "image/png": "[encoded data removed]",
            "text/plain": [
              "<Figure size 432x288 with 1 Axes>"
            ]
          },
          "metadata": {
            "tags": [],
            "needs_background": "light"
          }
        }
      ]
    },
    {
      "cell_type": "code",
      "metadata": {
        "colab": {
          "base_uri": "https://localhost:8080/",
          "height": 558
        },
        "id": "ApECcO7XB8RO",
        "outputId": "2faebd0b-bbc1-47fd-a1d6-307ad98386c1"
      },
      "source": [
        "# Examine distribution of fnlwgt for male subjects\r\n",
        "wgt_m = income94[income94.sex == 'Male']\r\n",
        "plt.hist(income94.fnlwgt[income94.sex == 'Male'])\r\n",
        "plt.xlabel('Final Weight (Male)')\r\n",
        "plt.ylabel('Count')\r\n",
        "plt.show()\r\n",
        "sns.boxplot(x = 'fnlwgt', data = wgt_m)"
      ],
      "execution_count": 80,
      "outputs": [
        {
          "output_type": "display_data",
          "data": {
            "image/png": "[encoded data removed]",
            "text/plain": [
              "<Figure size 432x288 with 1 Axes>"
            ]
          },
          "metadata": {
            "tags": [],
            "needs_background": "light"
          }
        },
        {
          "output_type": "execute_result",
          "data": {
            "text/plain": [
              "<matplotlib.axes._subplots.AxesSubplot at 0x7f028f1d4400>"
            ]
          },
          "metadata": {
            "tags": []
          },
          "execution_count": 80
        },
        {
          "output_type": "display_data",
          "data": {
            "image/png": "[encoded data removed]",
            "text/plain": [
              "<Figure size 432x288 with 1 Axes>"
            ]
          },
          "metadata": {
            "tags": [],
            "needs_background": "light"
          }
        }
      ]
    },
    {
      "cell_type": "markdown",
      "metadata": {
        "id": "T6b5rMEMD9CW"
      },
      "source": [
        "##Correlation\r\n",
        "###1a."
      ]
    },
    {
      "cell_type": "code",
      "metadata": {
        "colab": {
          "base_uri": "https://localhost:8080/",
          "height": 284
        },
        "id": "L00y7v-HD8lH",
        "outputId": "3e7121e4-4244-4ee9-a903-f77a837f6ac7"
      },
      "source": [
        "# Observe correlation values for all variable pairs in income94\r\n",
        "income94.corr()"
      ],
      "execution_count": 81,
      "outputs": [
        {
          "output_type": "execute_result",
          "data": {
            "text/html": [
              "<div>\n",
              "<style scoped>\n",
              "    .dataframe tbody tr th:only-of-type {\n",
              "        vertical-align: middle;\n",
              "    }\n",
              "\n",
              "    .dataframe tbody tr th {\n",
              "        vertical-align: top;\n",
              "    }\n",
              "\n",
              "    .dataframe thead th {\n",
              "        text-align: right;\n",
              "    }\n",
              "</style>\n",
              "<table border=\"1\" class=\"dataframe\">\n",
              "  <thead>\n",
              "    <tr style=\"text-align: right;\">\n",
              "      <th></th>\n",
              "      <th>age</th>\n",
              "      <th>fnlwgt</th>\n",
              "      <th>education_num</th>\n",
              "      <th>capital_gain</th>\n",
              "      <th>capital_loss</th>\n",
              "      <th>hours_per_week</th>\n",
              "      <th>cg_bin</th>\n",
              "      <th>cl_bin</th>\n",
              "    </tr>\n",
              "  </thead>\n",
              "  <tbody>\n",
              "    <tr>\n",
              "      <th>age</th>\n",
              "      <td>1.000000</td>\n",
              "      <td>-0.076646</td>\n",
              "      <td>0.036527</td>\n",
              "      <td>0.077674</td>\n",
              "      <td>0.057775</td>\n",
              "      <td>0.068756</td>\n",
              "      <td>0.120095</td>\n",
              "      <td>0.050537</td>\n",
              "    </tr>\n",
              "    <tr>\n",
              "      <th>fnlwgt</th>\n",
              "      <td>-0.076646</td>\n",
              "      <td>1.000000</td>\n",
              "      <td>-0.043195</td>\n",
              "      <td>0.000432</td>\n",
              "      <td>-0.010252</td>\n",
              "      <td>-0.018768</td>\n",
              "      <td>-0.004849</td>\n",
              "      <td>-0.008981</td>\n",
              "    </tr>\n",
              "    <tr>\n",
              "      <th>education_num</th>\n",
              "      <td>0.036527</td>\n",
              "      <td>-0.043195</td>\n",
              "      <td>1.000000</td>\n",
              "      <td>0.122630</td>\n",
              "      <td>0.079923</td>\n",
              "      <td>0.148123</td>\n",
              "      <td>0.115444</td>\n",
              "      <td>0.076386</td>\n",
              "    </tr>\n",
              "    <tr>\n",
              "      <th>capital_gain</th>\n",
              "      <td>0.077674</td>\n",
              "      <td>0.000432</td>\n",
              "      <td>0.122630</td>\n",
              "      <td>1.000000</td>\n",
              "      <td>-0.031615</td>\n",
              "      <td>0.078409</td>\n",
              "      <td>0.484101</td>\n",
              "      <td>-0.032279</td>\n",
              "    </tr>\n",
              "    <tr>\n",
              "      <th>capital_loss</th>\n",
              "      <td>0.057775</td>\n",
              "      <td>-0.010252</td>\n",
              "      <td>0.079923</td>\n",
              "      <td>-0.031615</td>\n",
              "      <td>1.000000</td>\n",
              "      <td>0.054256</td>\n",
              "      <td>-0.065307</td>\n",
              "      <td>0.979431</td>\n",
              "    </tr>\n",
              "    <tr>\n",
              "      <th>hours_per_week</th>\n",
              "      <td>0.068756</td>\n",
              "      <td>-0.018768</td>\n",
              "      <td>0.148123</td>\n",
              "      <td>0.078409</td>\n",
              "      <td>0.054256</td>\n",
              "      <td>1.000000</td>\n",
              "      <td>0.075016</td>\n",
              "      <td>0.050439</td>\n",
              "    </tr>\n",
              "    <tr>\n",
              "      <th>cg_bin</th>\n",
              "      <td>0.120095</td>\n",
              "      <td>-0.004849</td>\n",
              "      <td>0.115444</td>\n",
              "      <td>0.484101</td>\n",
              "      <td>-0.065307</td>\n",
              "      <td>0.075016</td>\n",
              "      <td>1.000000</td>\n",
              "      <td>-0.066678</td>\n",
              "    </tr>\n",
              "    <tr>\n",
              "      <th>cl_bin</th>\n",
              "      <td>0.050537</td>\n",
              "      <td>-0.008981</td>\n",
              "      <td>0.076386</td>\n",
              "      <td>-0.032279</td>\n",
              "      <td>0.979431</td>\n",
              "      <td>0.050439</td>\n",
              "      <td>-0.066678</td>\n",
              "      <td>1.000000</td>\n",
              "    </tr>\n",
              "  </tbody>\n",
              "</table>\n",
              "</div>"
            ],
            "text/plain": [
              "                     age    fnlwgt  ...    cg_bin    cl_bin\n",
              "age             1.000000 -0.076646  ...  0.120095  0.050537\n",
              "fnlwgt         -0.076646  1.000000  ... -0.004849 -0.008981\n",
              "education_num   0.036527 -0.043195  ...  0.115444  0.076386\n",
              "capital_gain    0.077674  0.000432  ...  0.484101 -0.032279\n",
              "capital_loss    0.057775 -0.010252  ... -0.065307  0.979431\n",
              "hours_per_week  0.068756 -0.018768  ...  0.075016  0.050439\n",
              "cg_bin          0.120095 -0.004849  ...  1.000000 -0.066678\n",
              "cl_bin          0.050537 -0.008981  ... -0.066678  1.000000\n",
              "\n",
              "[8 rows x 8 columns]"
            ]
          },
          "metadata": {
            "tags": []
          },
          "execution_count": 81
        }
      ]
    },
    {
      "cell_type": "markdown",
      "metadata": {
        "id": "d0-aBjt6tBcB"
      },
      "source": [
        "###1b."
      ]
    },
    {
      "cell_type": "code",
      "metadata": {
        "colab": {
          "base_uri": "https://localhost:8080/"
        },
        "id": "kIlP0x7Wa-j6",
        "outputId": "2937bf78-0093-4d06-8b82-8f807cd4edcd"
      },
      "source": [
        "# Fit linear regression model on independent variable education_num and dependent variable hours_per_week\r\n",
        "reg1 = smf.ols('hours_per_week ~ education_num', data = income94).fit()\r\n",
        "print(reg1.summary())"
      ],
      "execution_count": 82,
      "outputs": [
        {
          "output_type": "stream",
          "text": [
            "                            OLS Regression Results                            \n",
            "==============================================================================\n",
            "Dep. Variable:         hours_per_week   R-squared:                       0.022\n",
            "Model:                            OLS   Adj. R-squared:                  0.022\n",
            "Method:                 Least Squares   F-statistic:                     730.4\n",
            "Date:                Mon, 08 Feb 2021   Prob (F-statistic):          4.24e-159\n",
            "Time:                        08:17:01   Log-Likelihood:            -1.2768e+05\n",
            "No. Observations:               32561   AIC:                         2.554e+05\n",
            "Df Residuals:                   32559   BIC:                         2.554e+05\n",
            "Df Model:                           1                                         \n",
            "Covariance Type:            nonrobust                                         \n",
            "=================================================================================\n",
            "                    coef    std err          t      P>|t|      [0.025      0.975]\n",
            "---------------------------------------------------------------------------------\n",
            "Intercept        33.2711      0.274    121.575      0.000      32.735      33.808\n",
            "education_num     0.7109      0.026     27.026      0.000       0.659       0.762\n",
            "==============================================================================\n",
            "Omnibus:                     2649.457   Durbin-Watson:                   2.017\n",
            "Prob(Omnibus):                  0.000   Jarque-Bera (JB):            13119.139\n",
            "Skew:                           0.238   Prob(JB):                         0.00\n",
            "Kurtosis:                       6.073   Cond. No.                         42.4\n",
            "==============================================================================\n",
            "\n",
            "Warnings:\n",
            "[1] Standard Errors assume that the covariance matrix of the errors is correctly specified.\n"
          ],
          "name": "stdout"
        }
      ]
    },
    {
      "cell_type": "markdown",
      "metadata": {
        "id": "kq-b_n5ytYIz"
      },
      "source": [
        "###1c."
      ]
    },
    {
      "cell_type": "code",
      "metadata": {
        "colab": {
          "base_uri": "https://localhost:8080/"
        },
        "id": "ngEDBz2GsJ6_",
        "outputId": "f4dd6753-8ae5-4fca-dbd8-8565590ce103"
      },
      "source": [
        "# Get correlation value for education_num and age for females\r\n",
        "income94[income94.sex == 'Female'].education_num.corr(income94.age)"
      ],
      "execution_count": 83,
      "outputs": [
        {
          "output_type": "execute_result",
          "data": {
            "text/plain": [
              "-0.017899243935447715"
            ]
          },
          "metadata": {
            "tags": []
          },
          "execution_count": 83
        }
      ]
    },
    {
      "cell_type": "code",
      "metadata": {
        "colab": {
          "base_uri": "https://localhost:8080/"
        },
        "id": "3d-c-rHptD-g",
        "outputId": "d654d85c-2d2f-4c50-f3a4-719e27977b52"
      },
      "source": [
        "# Get correlation value for education_num and age for males\r\n",
        "income94[income94.sex == 'Male'].education_num.corr(income94.age)"
      ],
      "execution_count": 84,
      "outputs": [
        {
          "output_type": "execute_result",
          "data": {
            "text/plain": [
              "0.06048640919826827"
            ]
          },
          "metadata": {
            "tags": []
          },
          "execution_count": 84
        }
      ]
    },
    {
      "cell_type": "markdown",
      "metadata": {
        "id": "un_-6qlhtcf2"
      },
      "source": [
        "###1d."
      ]
    },
    {
      "cell_type": "code",
      "metadata": {
        "colab": {
          "base_uri": "https://localhost:8080/"
        },
        "id": "N9vHC42O3FUH",
        "outputId": "645fd204-9dd4-46ce-f97f-4f1d8c3b0803"
      },
      "source": [
        "# Unweighted\r\n",
        "print('The unweighted variance for education_num is {}'.format(np.var(income94.education_num)))\r\n",
        "print('The unweighted variance for hours_per_week is {}'.format(np.var(income94.hours_per_week)))\r\n",
        "print('The unweighted covariance between these two variables is {}'.format(np.cov(income94.education_num, income94.hours_per_week)[0][1]))"
      ],
      "execution_count": 85,
      "outputs": [
        {
          "output_type": "stream",
          "text": [
            "The unweighted variance for education_num is 6.618686630416274\n",
            "The unweighted variance for hours_per_week is 152.45431279266475\n",
            "The unweighted covariance between these two variables is 4.705337944611544\n"
          ],
          "name": "stdout"
        }
      ]
    },
    {
      "cell_type": "code",
      "metadata": {
        "colab": {
          "base_uri": "https://localhost:8080/"
        },
        "id": "-n4xTHfHdVXa",
        "outputId": "1375e15e-ca8a-4b4e-e79a-a131db5c1aa3"
      },
      "source": [
        "# Weighted\r\n",
        "income94['weighted_edu_num'] = income94.education_num * income94.fnlwgt\r\n",
        "income94['weighted_hours'] = income94.hours_per_week * income94.fnlwgt\r\n",
        "print('The weighted variance for education_num is {}'.format(np.var(income94.weighted_edu_num)))\r\n",
        "print('The weighted variance for hours_per_week is {}'.format(np.var(income94.weighted_hours)))\r\n",
        "print('The weighted covariance between these two variables is {}'.format(np.cov(income94.weighted_edu_num, income94.weighted_hours)[0][1]))"
      ],
      "execution_count": 86,
      "outputs": [
        {
          "output_type": "stream",
          "text": [
            "The weighted variance for education_num is 1390210683845.4873\n",
            "The weighted variance for hours_per_week is 24505426809320.75\n",
            "The weighted covariance between these two variables is 4558904127558.021\n"
          ],
          "name": "stdout"
        }
      ]
    },
    {
      "cell_type": "markdown",
      "metadata": {
        "id": "K6lHBWD_m0L1"
      },
      "source": [
        "##Regression\r\n",
        "###1a."
      ]
    },
    {
      "cell_type": "code",
      "metadata": {
        "colab": {
          "base_uri": "https://localhost:8080/"
        },
        "id": "szWn2Pf9m3Pi",
        "outputId": "75328b93-68ad-4c2b-eb6c-c782e0d69fec"
      },
      "source": [
        "reg2 = smf.ols('hours_per_week ~ sex', data = income94).fit()\r\n",
        "print(reg2.summary())"
      ],
      "execution_count": 87,
      "outputs": [
        {
          "output_type": "stream",
          "text": [
            "                            OLS Regression Results                            \n",
            "==============================================================================\n",
            "Dep. Variable:         hours_per_week   R-squared:                       0.053\n",
            "Model:                            OLS   Adj. R-squared:                  0.053\n",
            "Method:                 Least Squares   F-statistic:                     1807.\n",
            "Date:                Mon, 08 Feb 2021   Prob (F-statistic):               0.00\n",
            "Time:                        08:17:01   Log-Likelihood:            -1.2716e+05\n",
            "No. Observations:               32561   AIC:                         2.543e+05\n",
            "Df Residuals:                   32559   BIC:                         2.543e+05\n",
            "Df Model:                           1                                         \n",
            "Covariance Type:            nonrobust                                         \n",
            "===============================================================================\n",
            "                  coef    std err          t      P>|t|      [0.025      0.975]\n",
            "-------------------------------------------------------------------------------\n",
            "Intercept      36.4104      0.116    314.412      0.000      36.183      36.637\n",
            "sex[T.Male]     6.0177      0.142     42.510      0.000       5.740       6.295\n",
            "==============================================================================\n",
            "Omnibus:                     2649.390   Durbin-Watson:                   2.019\n",
            "Prob(Omnibus):                  0.000   Jarque-Bera (JB):            13090.867\n",
            "Skew:                           0.239   Prob(JB):                         0.00\n",
            "Kurtosis:                       6.069   Cond. No.                         3.24\n",
            "==============================================================================\n",
            "\n",
            "Warnings:\n",
            "[1] Standard Errors assume that the covariance matrix of the errors is correctly specified.\n"
          ],
          "name": "stdout"
        }
      ]
    },
    {
      "cell_type": "markdown",
      "metadata": {
        "id": "M9qMwnHjtj_-"
      },
      "source": [
        "###1b."
      ]
    },
    {
      "cell_type": "code",
      "metadata": {
        "colab": {
          "base_uri": "https://localhost:8080/"
        },
        "id": "xz3A_EUHnIs7",
        "outputId": "14b89c66-fcc2-4fc9-b7c3-49ef1365707d"
      },
      "source": [
        "reg3 = smf.ols('hours_per_week ~ sex + education_num', data = income94).fit()\r\n",
        "print(reg3.summary())"
      ],
      "execution_count": 88,
      "outputs": [
        {
          "output_type": "stream",
          "text": [
            "                            OLS Regression Results                            \n",
            "==============================================================================\n",
            "Dep. Variable:         hours_per_week   R-squared:                       0.074\n",
            "Model:                            OLS   Adj. R-squared:                  0.074\n",
            "Method:                 Least Squares   F-statistic:                     1295.\n",
            "Date:                Mon, 08 Feb 2021   Prob (F-statistic):               0.00\n",
            "Time:                        08:17:02   Log-Likelihood:            -1.2680e+05\n",
            "No. Observations:               32561   AIC:                         2.536e+05\n",
            "Df Residuals:                   32558   BIC:                         2.536e+05\n",
            "Df Model:                           2                                         \n",
            "Covariance Type:            nonrobust                                         \n",
            "=================================================================================\n",
            "                    coef    std err          t      P>|t|      [0.025      0.975]\n",
            "---------------------------------------------------------------------------------\n",
            "Intercept        29.4106      0.281    104.556      0.000      28.859      29.962\n",
            "sex[T.Male]       5.9709      0.140     42.653      0.000       5.697       6.245\n",
            "education_num     0.6975      0.026     27.244      0.000       0.647       0.748\n",
            "==============================================================================\n",
            "Omnibus:                     2783.881   Durbin-Watson:                   2.018\n",
            "Prob(Omnibus):                  0.000   Jarque-Bera (JB):            14492.060\n",
            "Skew:                           0.247   Prob(JB):                         0.00\n",
            "Kurtosis:                       6.231   Cond. No.                         45.6\n",
            "==============================================================================\n",
            "\n",
            "Warnings:\n",
            "[1] Standard Errors assume that the covariance matrix of the errors is correctly specified.\n"
          ],
          "name": "stdout"
        }
      ]
    },
    {
      "cell_type": "markdown",
      "metadata": {
        "id": "CefNPDqYtl6X"
      },
      "source": [
        "###1c."
      ]
    },
    {
      "cell_type": "code",
      "metadata": {
        "colab": {
          "base_uri": "https://localhost:8080/"
        },
        "id": "EHijzUSvn-Wr",
        "outputId": "f4ce86f1-f40b-45ea-ae95-1200c022b9f5"
      },
      "source": [
        "reg4 = smf.ols('hours_per_week ~ sex + education_num + gross_income_group', data = income94).fit()\r\n",
        "print(reg4.summary())"
      ],
      "execution_count": 89,
      "outputs": [
        {
          "output_type": "stream",
          "text": [
            "                            OLS Regression Results                            \n",
            "==============================================================================\n",
            "Dep. Variable:         hours_per_week   R-squared:                       0.094\n",
            "Model:                            OLS   Adj. R-squared:                  0.094\n",
            "Method:                 Least Squares   F-statistic:                     1130.\n",
            "Date:                Mon, 08 Feb 2021   Prob (F-statistic):               0.00\n",
            "Time:                        08:17:02   Log-Likelihood:            -1.2643e+05\n",
            "No. Observations:               32561   AIC:                         2.529e+05\n",
            "Df Residuals:                   32557   BIC:                         2.529e+05\n",
            "Df Model:                           3                                         \n",
            "Covariance Type:            nonrobust                                         \n",
            "==============================================================================================\n",
            "                                 coef    std err          t      P>|t|      [0.025      0.975]\n",
            "----------------------------------------------------------------------------------------------\n",
            "Intercept                     31.4218      0.288    109.184      0.000      30.858      31.986\n",
            "sex[T.Male]                    5.1010      0.142     35.907      0.000       4.823       5.379\n",
            "gross_income_group[T.>50K]     4.5175      0.166     27.229      0.000       4.192       4.843\n",
            "education_num                  0.4478      0.027     16.632      0.000       0.395       0.501\n",
            "==============================================================================\n",
            "Omnibus:                     2984.190   Durbin-Watson:                   2.015\n",
            "Prob(Omnibus):                  0.000   Jarque-Bera (JB):            15467.160\n",
            "Skew:                           0.296   Prob(JB):                         0.00\n",
            "Kurtosis:                       6.324   Cond. No.                         48.1\n",
            "==============================================================================\n",
            "\n",
            "Warnings:\n",
            "[1] Standard Errors assume that the covariance matrix of the errors is correctly specified.\n"
          ],
          "name": "stdout"
        }
      ]
    }
  ]
}