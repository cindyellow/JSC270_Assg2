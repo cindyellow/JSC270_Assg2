{
  "nbformat": 4,
  "nbformat_minor": 0,
  "metadata": {
    "colab": {
      "name": "JSC270_A4_Code",
      "provenance": [],
      "collapsed_sections": [],
      "toc_visible": true,
      "include_colab_link": true
    },
    "kernelspec": {
      "name": "python3",
      "display_name": "Python 3"
    }
  },
  "cells": [
    {
      "cell_type": "markdown",
      "metadata": {
        "id": "view-in-github",
        "colab_type": "text"
      },
      "source": [
        "<a href=\"https://colab.research.google.com/github/cindyellow/JSC270_Assg2/blob/cindys_branch/JSC270_A4_Code.ipynb\" target=\"_parent\"><img src=\"https://colab.research.google.com/assets/colab-badge.svg\" alt=\"Open In Colab\"/></a>"
      ]
    },
    {
      "cell_type": "markdown",
      "metadata": {
        "id": "WZBHulTnLuCZ"
      },
      "source": [
        "**JSC270**\n",
        "\n",
        "**Warren Zhu and Cindy Huang**"
      ]
    },
    {
      "cell_type": "markdown",
      "metadata": {
        "id": "oNSNFiFDd3XY"
      },
      "source": [
        "## Assignment 4: Natural Language Processing (with Twitter data)\n"
      ]
    },
    {
      "cell_type": "markdown",
      "metadata": {
        "id": "9yM6HVVHL6UI"
      },
      "source": [
        "## Imports:"
      ]
    },
    {
      "cell_type": "markdown",
      "metadata": {
        "id": "GFrd01JyMA2h"
      },
      "source": [
        "First, upload the testing and training data."
      ]
    },
    {
      "cell_type": "code",
      "metadata": {
        "id": "SpFkgLFsSq4y",
        "colab": {
          "resources": {
            "http://localhost:8080/nbextensions/google.colab/files.js": {
              "data": "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",
              "ok": true,
              "headers": [
                [
                  "content-type",
                  "application/javascript"
                ]
              ],
              "status": 200,
              "status_text": ""
            }
          },
          "base_uri": "https://localhost:8080/",
          "height": 108
        },
        "outputId": "5295c79d-da9a-406e-b86c-eaaf0a22eedd"
      },
      "source": [
        "from google.colab import files\n",
        "data_to_load = files.upload()"
      ],
      "execution_count": null,
      "outputs": [
        {
          "output_type": "display_data",
          "data": {
            "text/html": [
              "\n",
              "     <input type=\"file\" id=\"files-1791f1b6-121f-4c62-b090-a031aa200fc6\" name=\"files[]\" multiple disabled\n",
              "        style=\"border:none\" />\n",
              "     <output id=\"result-1791f1b6-121f-4c62-b090-a031aa200fc6\">\n",
              "      Upload widget is only available when the cell has been executed in the\n",
              "      current browser session. Please rerun this cell to enable.\n",
              "      </output>\n",
              "      <script src=\"/nbextensions/google.colab/files.js\"></script> "
            ],
            "text/plain": [
              "<IPython.core.display.HTML object>"
            ]
          },
          "metadata": {
            "tags": []
          }
        },
        {
          "output_type": "stream",
          "text": [
            "Saving covid-tweets-test.csv to covid-tweets-test (1).csv\n",
            "Saving covid-tweets-train.csv to covid-tweets-train (1).csv\n"
          ],
          "name": "stdout"
        }
      ]
    },
    {
      "cell_type": "markdown",
      "metadata": {
        "id": "6ST6ekPaMG1R"
      },
      "source": [
        "Import the necessary items."
      ]
    },
    {
      "cell_type": "code",
      "metadata": {
        "id": "jZKL2FhkSrf1",
        "colab": {
          "base_uri": "https://localhost:8080/",
          "height": 195
        },
        "outputId": "4643b30e-c439-4c3c-908f-e4b3225a2824"
      },
      "source": [
        "import numpy as np\n",
        "import pandas as pd \n",
        "import io \n",
        "import matplotlib.pyplot as plt\n",
        "import re\n",
        "\n",
        "# Read loaded data in as pandas df  \n",
        "train = pd.read_csv(io.BytesIO(data_to_load['covid-tweets-train.csv']), encoding = 'latin1') # alter encoding to account for special characters\n",
        "test = pd.read_csv(io.BytesIO(data_to_load['covid-tweets-test.csv']), encoding = 'latin1') \n",
        "train.head(5)"
      ],
      "execution_count": null,
      "outputs": [
        {
          "output_type": "execute_result",
          "data": {
            "text/html": [
              "<div>\n",
              "<style scoped>\n",
              "    .dataframe tbody tr th:only-of-type {\n",
              "        vertical-align: middle;\n",
              "    }\n",
              "\n",
              "    .dataframe tbody tr th {\n",
              "        vertical-align: top;\n",
              "    }\n",
              "\n",
              "    .dataframe thead th {\n",
              "        text-align: right;\n",
              "    }\n",
              "</style>\n",
              "<table border=\"1\" class=\"dataframe\">\n",
              "  <thead>\n",
              "    <tr style=\"text-align: right;\">\n",
              "      <th></th>\n",
              "      <th>Unnamed: 0</th>\n",
              "      <th>OriginalTweet</th>\n",
              "      <th>Sentiment</th>\n",
              "    </tr>\n",
              "  </thead>\n",
              "  <tbody>\n",
              "    <tr>\n",
              "      <th>0</th>\n",
              "      <td>0</td>\n",
              "      <td>@MeNyrbie @Phil_Gahan @Chrisitv https://t.co/i...</td>\n",
              "      <td>1</td>\n",
              "    </tr>\n",
              "    <tr>\n",
              "      <th>1</th>\n",
              "      <td>1</td>\n",
              "      <td>advice Talk to your neighbours family to excha...</td>\n",
              "      <td>2</td>\n",
              "    </tr>\n",
              "    <tr>\n",
              "      <th>2</th>\n",
              "      <td>2</td>\n",
              "      <td>Coronavirus Australia: Woolworths to give elde...</td>\n",
              "      <td>2</td>\n",
              "    </tr>\n",
              "    <tr>\n",
              "      <th>3</th>\n",
              "      <td>3</td>\n",
              "      <td>My food stock is not the only one which is emp...</td>\n",
              "      <td>2</td>\n",
              "    </tr>\n",
              "    <tr>\n",
              "      <th>4</th>\n",
              "      <td>4</td>\n",
              "      <td>Me, ready to go at supermarket during the #COV...</td>\n",
              "      <td>0</td>\n",
              "    </tr>\n",
              "  </tbody>\n",
              "</table>\n",
              "</div>"
            ],
            "text/plain": [
              "   Unnamed: 0                                      OriginalTweet Sentiment\n",
              "0           0  @MeNyrbie @Phil_Gahan @Chrisitv https://t.co/i...         1\n",
              "1           1  advice Talk to your neighbours family to excha...         2\n",
              "2           2  Coronavirus Australia: Woolworths to give elde...         2\n",
              "3           3  My food stock is not the only one which is emp...         2\n",
              "4           4  Me, ready to go at supermarket during the #COV...         0"
            ]
          },
          "metadata": {
            "tags": []
          },
          "execution_count": 65
        }
      ]
    },
    {
      "cell_type": "markdown",
      "metadata": {
        "id": "eOaRv24gSNx7"
      },
      "source": [
        "## Question 1:"
      ]
    },
    {
      "cell_type": "markdown",
      "metadata": {
        "id": "1kN4Ht6zSSbK"
      },
      "source": [
        "### Part A):"
      ]
    },
    {
      "cell_type": "code",
      "metadata": {
        "id": "4EcMq-COdyQ5",
        "colab": {
          "base_uri": "https://localhost:8080/"
        },
        "outputId": "1d4cecad-752d-4d84-9dde-134931154538"
      },
      "source": [
        "# Get proportion of values in col and rename the indices with rename_dict\n",
        "def get_prop(col,rename_dict):\n",
        "  return col.value_counts().rename(index=rename_dict)\n",
        "\n",
        "sentiments = {'0':\"negative\", '1':\"neutral\", '2':\"positive\"}\n",
        "sent_prop_train = get_prop(train[\"Sentiment\"], sentiments)\n",
        "sent_prop_train \n",
        "# a couple of mistakes (and blanks); should we assign values manually or delete? (sentiment is included in tweet str) ->can drop them; be sure to note that"
      ],
      "execution_count": null,
      "outputs": [
        {
          "output_type": "execute_result",
          "data": {
            "text/plain": [
              "positive     18042\n",
              "negative     15397\n",
              "neutral       7712\n",
              " England\"        1\n",
              " PA\"             1\n",
              "Name: Sentiment, dtype: int64"
            ]
          },
          "metadata": {
            "tags": []
          },
          "execution_count": 66
        }
      ]
    },
    {
      "cell_type": "markdown",
      "metadata": {
        "id": "f7q5Cn96dvjx"
      },
      "source": [
        "###Part B):"
      ]
    },
    {
      "cell_type": "code",
      "metadata": {
        "colab": {
          "base_uri": "https://localhost:8080/"
        },
        "id": "KX4IIwMXdyeS",
        "outputId": "41a26d47-ded1-4afe-86d8-2e400dd69836"
      },
      "source": [
        "# Create tokens for col based on splitter\n",
        "def manual_token(col, splitter):\n",
        "  new_col = pd.Series(np.random.randn(col.size), index=col.index)\n",
        "  for i in range(col.size):\n",
        "      new_col[i]=col[i].split(splitter)\n",
        "  return new_col\n",
        "train['ws_tokens'] = manual_token(train.OriginalTweet,' ')\n",
        "train['ws_tokens']"
      ],
      "execution_count": null,
      "outputs": [
        {
          "output_type": "execute_result",
          "data": {
            "text/plain": [
              "0        [@MeNyrbie, @Phil_Gahan, @Chrisitv, https://t....\n",
              "1        [advice, Talk, to, your, neighbours, family, t...\n",
              "2        [Coronavirus, Australia:, Woolworths, to, give...\n",
              "3        [My, food, stock, is, not, the, only, one, whi...\n",
              "4        [Me,, ready, to, go, at, supermarket, during, ...\n",
              "                               ...                        \n",
              "41150    [Airline, pilots, offering, to, stock, superma...\n",
              "41151    [Response, to, complaint, not, provided, citin...\n",
              "41152    [You, know, itÃÂs, getting, tough, when, @Ka...\n",
              "41153    [Is, it, wrong, that, the, smell, of, hand, sa...\n",
              "41154    [@TartiiCat, Well, new/used, Rift, S, are, goi...\n",
              "Name: ws_tokens, Length: 41155, dtype: object"
            ]
          },
          "metadata": {
            "tags": []
          },
          "execution_count": 67
        }
      ]
    },
    {
      "cell_type": "markdown",
      "metadata": {
        "id": "4jBcUxUYkSC1"
      },
      "source": [
        "###Part C):"
      ]
    },
    {
      "cell_type": "code",
      "metadata": {
        "colab": {
          "base_uri": "https://localhost:8080/"
        },
        "id": "iO0Jeb3GkTmM",
        "outputId": "9e463f4e-fb71-48eb-ab30-5062f184cb93"
      },
      "source": [
        "# Remove tokens that contain regex from rows in col\n",
        "def remove_token(col, regex):\n",
        "  tokens_removed = []\n",
        "  for row in col:\n",
        "    tokens_removed.append([t for t in row if regex not in t])\n",
        "  return tokens_removed\n",
        "\n",
        "train['regex_tokens'] = remove_token(train.ws_tokens, 'http')\n",
        "train['regex_tokens']"
      ],
      "execution_count": null,
      "outputs": [
        {
          "output_type": "execute_result",
          "data": {
            "text/plain": [
              "0        [@MeNyrbie, @Phil_Gahan, @Chrisitv, s://t.co/i...\n",
              "1        [advice, Talk, to, your, neighbours, family, t...\n",
              "2        [Coronavirus, Australia:, Woolworths, to, give...\n",
              "3        [My, food, stock, is, not, the, only, one, whi...\n",
              "4        [Me,, ready, to, go, at, supermarket, during, ...\n",
              "                               ...                        \n",
              "41150    [Airline, pilots, offering, to, stock, superma...\n",
              "41151    [Response, to, complaint, not, provided, citin...\n",
              "41152    [You, know, itÃÂs, getting, tough, when, @Ka...\n",
              "41153    [Is, it, wrong, that, the, smell, of, hand, sa...\n",
              "41154    [@TartiiCat, Well, new/used, Rift, S, are, goi...\n",
              "Name: regex_tokens, Length: 41155, dtype: object"
            ]
          },
          "metadata": {
            "tags": []
          },
          "execution_count": 69
        }
      ]
    },
    {
      "cell_type": "markdown",
      "metadata": {
        "id": "obZlRJooKXTc"
      },
      "source": [
        "###Part D):"
      ]
    },
    {
      "cell_type": "code",
      "metadata": {
        "id": "9asGg4R1gx0B"
      },
      "source": [
        "# Remove regex from tokens in each row of col\n",
        "def remove_regex(col, regex):\n",
        "  regex_removed = []\n",
        "  for row in col:\n",
        "    regex_removed.append([re.sub(regex,'', t) for t in row]) # replace regex with '' in str t\n",
        "  return regex_removed\n",
        "\n",
        "train['regex_tokens'] = remove_regex(train['regex_tokens'], '^\\w')\n",
        "\n",
        "# Return lowercase copy of all tokens in col\n",
        "def lowercase_token(col):\n",
        "  lowercase = []\n",
        "  for row in col:\n",
        "    lowercase.append([t.lower() for t in row])\n",
        "  return col\n",
        "\n",
        "train['regex_tokens'] = lowercase_token(train['regex_tokens'])"
      ],
      "execution_count": null,
      "outputs": []
    },
    {
      "cell_type": "markdown",
      "metadata": {
        "id": "SYnNtiwFKcJu"
      },
      "source": [
        "###Part E):"
      ]
    },
    {
      "cell_type": "code",
      "metadata": {
        "id": "WaKH1joRiC_B"
      },
      "source": [
        "from nltk.stem.porter import *\n",
        "stemmer = PorterStemmer()\n",
        "\n",
        "# Stem tokens in col using stemmer\n",
        "def stem_tokens(col, stemmer):\n",
        "  stemmed_tokens = []\n",
        "  for row in col:\n",
        "    stemmed_tokens.append([stemmer.stem(t) for t in row])\n",
        "\n",
        "train['stemmed_tokens'] = stem_tokens(train['regex_tokens'], stemmer)"
      ],
      "execution_count": null,
      "outputs": []
    },
    {
      "cell_type": "markdown",
      "metadata": {
        "id": "L8bziploKg-g"
      },
      "source": [
        "###Part F):"
      ]
    },
    {
      "cell_type": "code",
      "metadata": {
        "id": "Ti3729eWxRRq"
      },
      "source": [
        "from nltk.corpus import stopwords\n",
        "\n",
        "# Print the first 100 stopwords\n",
        "sw = stopwords.words('english')[:100]\n",
        "print(np.array(sw).reshape((15,5)))\n",
        "\n",
        "# Remove stopwords of the provided list sw from tokens in col\n",
        "def remove_stopwords(col, sw):\n",
        "  no_sw = []\n",
        "  for row in col:\n",
        "    no_sw.append([w for w in row if w not in sw])\n",
        "  return no_sw\n",
        "\n",
        "train['tokens_no_sw'] = remove_stopwords(train['stemmed_tokens'], sw)"
      ],
      "execution_count": null,
      "outputs": []
    },
    {
      "cell_type": "markdown",
      "metadata": {
        "id": "bhMlNrS1KkOB"
      },
      "source": [
        "###Part G):"
      ]
    },
    {
      "cell_type": "markdown",
      "metadata": {
        "id": "BwYwdNSnMlw6"
      },
      "source": [
        "#### <- Current Progress"
      ]
    },
    {
      "cell_type": "code",
      "metadata": {
        "id": "NKpyh3sXzON3"
      },
      "source": [
        "from sklearn.feature_extraction.text import CountVectorizer\n",
        "from sklearn.feature_extraction.text import TfidfTransformer\n",
        "from sklearn.model_selection import train_test_split\n",
        "\n"
      ],
      "execution_count": null,
      "outputs": []
    },
    {
      "cell_type": "markdown",
      "metadata": {
        "id": "WuyKJmtLKpHD"
      },
      "source": [
        "###Part H):"
      ]
    },
    {
      "cell_type": "markdown",
      "metadata": {
        "id": "N06PCn7fKqfs"
      },
      "source": [
        "###Part I):"
      ]
    },
    {
      "cell_type": "markdown",
      "metadata": {
        "id": "31wKk2mqKykS"
      },
      "source": [
        "###Part J):"
      ]
    },
    {
      "cell_type": "markdown",
      "metadata": {
        "id": "4gb-0umEKvtw"
      },
      "source": [
        "###Part K):"
      ]
    },
    {
      "cell_type": "markdown",
      "metadata": {
        "id": "KW00cQGuLDvF"
      },
      "source": [
        "###Bonus:"
      ]
    },
    {
      "cell_type": "markdown",
      "metadata": {
        "id": "nuqjILSjLKen"
      },
      "source": [
        "Please refer to our PDF report for the answer to this question."
      ]
    },
    {
      "cell_type": "markdown",
      "metadata": {
        "id": "06Zkxe3iM5E2"
      },
      "source": [
        "## Question 2:"
      ]
    },
    {
      "cell_type": "markdown",
      "metadata": {
        "id": "HBb0d12yM8l-"
      },
      "source": [
        "### Part I) Problem description and motivation:"
      ]
    },
    {
      "cell_type": "markdown",
      "metadata": {
        "id": "ljUHHVe-ND68"
      },
      "source": [
        "### Part II) Describing the data:"
      ]
    },
    {
      "cell_type": "markdown",
      "metadata": {
        "id": "vrLKDp6TNN-R"
      },
      "source": [
        "### Part III) Exploratory Data Analysis:"
      ]
    },
    {
      "cell_type": "markdown",
      "metadata": {
        "id": "0Nl004FmNSRV"
      },
      "source": [
        "### Part IV) Describing the Machine Learning Model:"
      ]
    },
    {
      "cell_type": "markdown",
      "metadata": {
        "id": "PAwObvL0NeBK"
      },
      "source": [
        "### Part V) Results and Conclusions:"
      ]
    },
    {
      "cell_type": "markdown",
      "metadata": {
        "id": "WxIQBevUNz9L"
      },
      "source": [
        "##Question 3:"
      ]
    },
    {
      "cell_type": "markdown",
      "metadata": {
        "id": "jdNahVoZN4Br"
      },
      "source": [
        "The presentation will be at a later date."
      ]
    }
  ]
}